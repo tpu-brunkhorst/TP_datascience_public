{
 "cells": [
  {
   "cell_type": "markdown",
   "metadata": {},
   "source": [
    "# Import Electrification Study Loads from Snowflake to Python\n",
    "\n",
    "This is an example notebook to show how to download data from Snowflake"
   ]
  },
  {
   "cell_type": "code",
   "execution_count": 1,
   "metadata": {},
   "outputs": [],
   "source": [
    "import pandas as pd\n",
    "import snowflake.connector"
   ]
  },
  {
   "cell_type": "markdown",
   "metadata": {},
   "source": [
    "This is a general function that helps to query Snowflake.  "
   ]
  },
  {
   "cell_type": "code",
   "execution_count": 2,
   "metadata": {},
   "outputs": [],
   "source": [
    "def query_snowflake(sfuser, sfpass, sql_query):\n",
    "    \"\"\"\n",
    "    Connects to a Snowflake database and executes a SQL query.\n",
    "\n",
    "    Parameters:\n",
    "    - sfuser (str): Snowflake user name for database connection.\n",
    "    - sfpass (str): Snowflake password for database connection.\n",
    "    - sql_query (str): SQL query to execute.\n",
    "\n",
    "    Returns:\n",
    "    - pandas.DataFrame: A DataFrame containing the query results.\n",
    "    \"\"\"\n",
    "\n",
    "    # Establish connection\n",
    "    conn = snowflake.connector.connect(\n",
    "        user=sfuser,\n",
    "        password=sfpass,\n",
    "        account='tacoma',\n",
    "        warehouse='ANALYSTS_WH',\n",
    "        database='PWR_RAW',\n",
    "        role='ANALYST',\n",
    "        schema='EV'\n",
    "    )\n",
    "\n",
    "    try:\n",
    "        cursor = conn.cursor()\n",
    "        cursor.execute(sql_query)\n",
    "        rows = cursor.fetchall()\n",
    "        column_names = [desc[0] for desc in cursor.description]\n",
    "        df = pd.DataFrame(rows, columns=column_names)\n",
    "    finally:\n",
    "        cursor.close()\n",
    "        conn.close()\n",
    "\n",
    "    return df\n"
   ]
  },
  {
   "cell_type": "markdown",
   "metadata": {},
   "source": [
    "This function helps to process the datetime column from Snowflake.  "
   ]
  },
  {
   "cell_type": "code",
   "execution_count": 3,
   "metadata": {},
   "outputs": [],
   "source": [
    "def process_sf_datetime(df, dt_col = 'TIMESTAMP_HOURLY'):\n",
    "    \"\"\"\n",
    "    Adjusts the datetime in the DataFrame to 'America/Los_Angeles' timezone.\n",
    "\n",
    "    Parameters:\n",
    "    - df (pandas.DataFrame): DataFrame with a 'timestamp_hourly' column that needs timezone adjustment.\n",
    "\n",
    "    Returns:\n",
    "    - pandas.DataFrame: DataFrame with adjusted datetime index.\n",
    "    \"\"\"\n",
    "    df.rename(columns={dt_col: 'dt'}, inplace=True)\n",
    "    df.set_index('dt', inplace=True)\n",
    "    df.index = pd.to_datetime(df.index).tz_localize('UTC')\n",
    "    df = df.sort_index()\n",
    "    df['dt'] = df.index + pd.Timedelta(hours=+8)\n",
    "    df = df.set_index('dt').tz_convert('America/Los_Angeles')\n",
    "\n",
    "    return df\n"
   ]
  },
  {
   "cell_type": "markdown",
   "metadata": {},
   "source": [
    "This a function that makes a query specific to the electrification study.  "
   ]
  },
  {
   "cell_type": "code",
   "execution_count": 4,
   "metadata": {},
   "outputs": [],
   "source": [
    "def get_hourly_load_adders_query_string(scenario):\n",
    "    \"\"\"\n",
    "    Constructs the SQL query for aggregating hourly MWh data, excluding specific types,\n",
    "    and calls `query_snowflake` to execute the query.\n",
    "\n",
    "    Parameters:\n",
    "    - scenario (str): The adoption scenario to filter data by.\n",
    "\n",
    "    Returns:\n",
    "    - pandas.DataFrame: DataFrame returned by `query_snowflake`, ready for further processing.\n",
    "    \"\"\"\n",
    "    sql_query = f'''\n",
    "        SELECT\n",
    "            date_trunc('hour', timestamp) as timestamp_hourly,\n",
    "            SUM(MWH) as total_MWh\n",
    "        FROM\n",
    "            pwr_raw.ev.cadeo_load_impacts_feeder AS t1\n",
    "        JOIN\n",
    "            pwr_raw.ev.cadeo_measure_load_impact_segments AS t2 ON t1.seg_code = t2.data_output\n",
    "        WHERE\n",
    "            adoption_scenario='{scenario}'\n",
    "            AND TYPE NOT IN ('Building Energy Efficiency', 'Demand Response')\n",
    "        GROUP BY\n",
    "            timestamp_hourly\n",
    "        ORDER BY\n",
    "            timestamp_hourly\n",
    "    '''\n",
    "\n",
    "    return sql_query\n"
   ]
  },
  {
   "cell_type": "markdown",
   "metadata": {},
   "source": [
    "Run the query.  This was lase run with my user and password included which have been deleted.  "
   ]
  },
  {
   "cell_type": "code",
   "execution_count": 5,
   "metadata": {},
   "outputs": [
    {
     "data": {
      "text/plain": [
       "<Axes: xlabel='dt'>"
      ]
     },
     "execution_count": 5,
     "metadata": {},
     "output_type": "execute_result"
    },
    {
     "data": {
      "image/png": "[encoded data removed]",
      "text/plain": [
       "<Figure size 640x480 with 1 Axes>"
      ]
     },
     "metadata": {},
     "output_type": "display_data"
    }
   ],
   "source": [
    "scenario = 'scenario_2'\n",
    "sfuser = 'xxx'\n",
    "sfpass = 'xxx'\n",
    "df = process_sf_datetime(query_snowflake(sfuser, sfpass, get_hourly_load_adders_query_string(scenario)))\n",
    "df.plot()"
   ]
  }
 ],
 "metadata": {
  "kernelspec": {
   "display_name": "Python 3 (ipykernel)",
   "language": "python",
   "name": "python3"
  },
  "language_info": {
   "codemirror_mode": {
    "name": "ipython",
    "version": 3
   },
   "file_extension": ".py",
   "mimetype": "text/x-python",
   "name": "python",
   "nbconvert_exporter": "python",
   "pygments_lexer": "ipython3",
   "version": "3.11.3"
  }
 },
 "nbformat": 4,
 "nbformat_minor": 4
}
